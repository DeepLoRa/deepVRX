{
 "cells": [
  {
   "cell_type": "code",
   "execution_count": 5,
   "metadata": {},
   "outputs": [],
   "source": [
    "import os\n",
    "import cv2"
   ]
  },
  {
   "cell_type": "code",
   "execution_count": 6,
   "metadata": {},
   "outputs": [
    {
     "name": "stdout",
     "output_type": "stream",
     "text": [
      "处理完成\n"
     ]
    }
   ],
   "source": [
    "import os\n",
    "import cv2\n",
    "\n",
    "# 输入文件夹和输出文件夹路径\n",
    "input_folder = 'vid'\n",
    "output_folder = 'pics'\n",
    "\n",
    "# 创建输出文件夹（如果不存在）\n",
    "if not os.path.exists(output_folder):\n",
    "    os.makedirs(output_folder)\n",
    "\n",
    "# 列出输入文件夹中的所有视频文件\n",
    "video_files = [f for f in os.listdir(input_folder) if f.endswith('.mp4')]\n",
    "\n",
    "# 循环处理每个视频文件\n",
    "for video_file in video_files:\n",
    "    video_path = os.path.join(input_folder, video_file)\n",
    "\n",
    "    # 打开视频文件\n",
    "    cap = cv2.VideoCapture(video_path)\n",
    "\n",
    "    # 获取视频帧率和尺寸\n",
    "    frame_rate = int(cap.get(cv2.CAP_PROP_FPS))\n",
    "    frame_width = int(cap.get(cv2.CAP_PROP_FRAME_WIDTH))\n",
    "    frame_height = int(cap.get(cv2.CAP_PROP_FRAME_HEIGHT))\n",
    "\n",
    "    # 获取视频帧总数\n",
    "    frame_count = int(cap.get(cv2.CAP_PROP_FRAME_COUNT))\n",
    "\n",
    "    # 创建输出文件夹路径\n",
    "    output_subfolder = os.path.join(output_folder, os.path.splitext(video_file)[0])\n",
    "    if not os.path.exists(output_subfolder):\n",
    "        os.makedirs(output_subfolder)\n",
    "\n",
    "    # 计数器，用于跟踪采样的帧数\n",
    "    frame_count_sampled = 0\n",
    "\n",
    "    # 循环读取视频帧并采样存储为JPEG图片\n",
    "    for frame_index in range(frame_count):\n",
    "        ret, frame = cap.read()\n",
    "        if not ret:\n",
    "            break\n",
    "\n",
    "        # 只在计数器达到指定间隔时进行处理\n",
    "        if frame_count_sampled == 10:\n",
    "            # 下采样帧尺寸为 640x360\n",
    "            resized_frame = cv2.resize(frame, (480, 360))\n",
    "            \n",
    "            # 构造输出文件名\n",
    "            output_filename = f\"{frame_index:06d}.jpg\"\n",
    "            output_path = os.path.join(output_subfolder, output_filename)\n",
    "\n",
    "            # 存储帧为JPEG图片\n",
    "            cv2.imwrite(output_path, resized_frame)\n",
    "\n",
    "            # 重置计数器\n",
    "            frame_count_sampled = 0\n",
    "        else:\n",
    "            frame_count_sampled += 1\n",
    "\n",
    "    # 释放资源\n",
    "    cap.release()\n",
    "\n",
    "print(\"处理完成\")\n"
   ]
  }
 ],
 "metadata": {
  "kernelspec": {
   "display_name": "Python 3",
   "language": "python",
   "name": "python3"
  },
  "language_info": {
   "codemirror_mode": {
    "name": "ipython",
    "version": 3
   },
   "file_extension": ".py",
   "mimetype": "text/x-python",
   "name": "python",
   "nbconvert_exporter": "python",
   "pygments_lexer": "ipython3",
   "version": "3.11.3"
  },
  "orig_nbformat": 4
 },
 "nbformat": 4,
 "nbformat_minor": 2
}
